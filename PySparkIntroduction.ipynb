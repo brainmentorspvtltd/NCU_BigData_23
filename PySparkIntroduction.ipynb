{
 "cells": [
  {
   "cell_type": "code",
   "execution_count": 2,
   "id": "22f3c0f0",
   "metadata": {},
   "outputs": [],
   "source": [
    "# !pip install pyspark"
   ]
  },
  {
   "cell_type": "code",
   "execution_count": 1,
   "id": "5971f960",
   "metadata": {},
   "outputs": [],
   "source": [
    "import os, sys\n",
    "\n",
    "# SparkContext - Entry Point to PySpark Functionality\n",
    "# SparkSession - Entry Point to PySpark to work with RDD\n",
    "# - introduced in version 2.0\n",
    "# - replaced SQLContext, HiveContext\n",
    "\n",
    "from pyspark.sql import SparkSession"
   ]
  },
  {
   "cell_type": "code",
   "execution_count": 2,
   "id": "24f15252",
   "metadata": {},
   "outputs": [],
   "source": [
    "os.environ[\"PYSPARK_PYTHON\"] = sys.executable\n",
    "os.environ[\"PYSPARK_DRIVER_PYTHON\"] = sys.executable"
   ]
  },
  {
   "cell_type": "code",
   "execution_count": 3,
   "id": "52a170a6",
   "metadata": {},
   "outputs": [],
   "source": [
    "# master() - if you are running it on cluster you need to use master name\n",
    "# ideally it would be either yarn or mesos\n",
    "\n",
    "# local[x] - when running in standalone mode\n",
    "# x - how many partitions it should create with RDD\n",
    "# - ideally x value should be the number of CPU cores you have\n",
    "spark = SparkSession.builder.master(\"local[1]\").appName(\"SkillRisersV1\").getOrCreate()"
   ]
  },
  {
   "cell_type": "code",
   "execution_count": 4,
   "id": "2a321913",
   "metadata": {},
   "outputs": [
    {
     "name": "stdout",
     "output_type": "stream",
     "text": [
      "<pyspark.sql.session.SparkSession object at 0x0000018666D44A60>\n"
     ]
    }
   ],
   "source": [
    "print(spark)"
   ]
  },
  {
   "cell_type": "code",
   "execution_count": 5,
   "id": "ab3f0c1b",
   "metadata": {},
   "outputs": [
    {
     "data": {
      "text/html": [
       "\n",
       "            <div>\n",
       "                <p><b>SparkSession - in-memory</b></p>\n",
       "                \n",
       "        <div>\n",
       "            <p><b>SparkContext</b></p>\n",
       "\n",
       "            <p><a href=\"http://LAPTOP-69NKCP74.bbrouter:4040\">Spark UI</a></p>\n",
       "\n",
       "            <dl>\n",
       "              <dt>Version</dt>\n",
       "                <dd><code>v3.4.1</code></dd>\n",
       "              <dt>Master</dt>\n",
       "                <dd><code>local[1]</code></dd>\n",
       "              <dt>AppName</dt>\n",
       "                <dd><code>SkillRisersV1</code></dd>\n",
       "            </dl>\n",
       "        </div>\n",
       "        \n",
       "            </div>\n",
       "        "
      ],
      "text/plain": [
       "<pyspark.sql.session.SparkSession at 0x18666d44a60>"
      ]
     },
     "execution_count": 5,
     "metadata": {},
     "output_type": "execute_result"
    }
   ],
   "source": [
    "spark"
   ]
  },
  {
   "cell_type": "code",
   "execution_count": 6,
   "id": "2f1eac8a",
   "metadata": {},
   "outputs": [],
   "source": [
    "# get existing SparkSession\n",
    "# SparkSession.builder.getOrCreate()"
   ]
  },
  {
   "cell_type": "code",
   "execution_count": 7,
   "id": "894053cb",
   "metadata": {},
   "outputs": [],
   "source": [
    "# create new session\n",
    "# SparkSession.newSession"
   ]
  },
  {
   "cell_type": "code",
   "execution_count": 8,
   "id": "84708706",
   "metadata": {},
   "outputs": [],
   "source": [
    "# enable hive support with SparkSession\n",
    "# SparkSession.builder.master(\"local[2]\").appName(\"SparkSessionHive\").enableHiveSupport().getOrCreate()"
   ]
  },
  {
   "cell_type": "code",
   "execution_count": 9,
   "id": "386a7b47",
   "metadata": {},
   "outputs": [],
   "source": [
    "data = [\n",
    "    (\"John\", \"IT\", 45000, 10000),\n",
    "    (\"Max\", \"IT\", 25000, 15000),\n",
    "    (\"Shawn\", \"HR\", 50000, 5000),\n",
    "    (\"John\", \"IT\", 45000, 20000),\n",
    "    (\"Nick\", \"HR\", 40000, 10000),\n",
    "    (\"Sam\", \"IT\", 45000, 10000),\n",
    "    (\"Ricky\", \"HR\", 70000, 35000),\n",
    "    (\"Steve\", \"IT\", 20000, 10000),\n",
    "    (\"Mathew\", \"IT\", 35000, 15000),\n",
    "]"
   ]
  },
  {
   "cell_type": "code",
   "execution_count": 10,
   "id": "bf0b61b1",
   "metadata": {},
   "outputs": [],
   "source": [
    "rdd = spark.sparkContext.parallelize(data)"
   ]
  },
  {
   "cell_type": "code",
   "execution_count": 11,
   "id": "cef3bfcd",
   "metadata": {},
   "outputs": [
    {
     "data": {
      "text/plain": [
       "ParallelCollectionRDD[0] at readRDDFromFile at PythonRDD.scala:287"
      ]
     },
     "execution_count": 11,
     "metadata": {},
     "output_type": "execute_result"
    }
   ],
   "source": [
    "rdd"
   ]
  },
  {
   "cell_type": "code",
   "execution_count": 12,
   "id": "df2b6c28",
   "metadata": {},
   "outputs": [],
   "source": [
    "df = rdd.toDF()"
   ]
  },
  {
   "cell_type": "code",
   "execution_count": 13,
   "id": "ea81543d",
   "metadata": {},
   "outputs": [
    {
     "data": {
      "text/plain": [
       "DataFrame[_1: string, _2: string, _3: bigint, _4: bigint]"
      ]
     },
     "execution_count": 13,
     "metadata": {},
     "output_type": "execute_result"
    }
   ],
   "source": [
    "df"
   ]
  },
  {
   "cell_type": "code",
   "execution_count": 14,
   "id": "5bf6fcd2",
   "metadata": {},
   "outputs": [
    {
     "name": "stdout",
     "output_type": "stream",
     "text": [
      "+------+---+-----+-----+\n",
      "|    _1| _2|   _3|   _4|\n",
      "+------+---+-----+-----+\n",
      "|  John| IT|45000|10000|\n",
      "|   Max| IT|25000|15000|\n",
      "| Shawn| HR|50000| 5000|\n",
      "|  John| IT|45000|20000|\n",
      "|  Nick| HR|40000|10000|\n",
      "|   Sam| IT|45000|10000|\n",
      "| Ricky| HR|70000|35000|\n",
      "| Steve| IT|20000|10000|\n",
      "|Mathew| IT|35000|15000|\n",
      "+------+---+-----+-----+\n",
      "\n"
     ]
    }
   ],
   "source": [
    "df.show()"
   ]
  },
  {
   "cell_type": "code",
   "execution_count": 15,
   "id": "8e3fc6c6",
   "metadata": {},
   "outputs": [
    {
     "data": {
      "text/plain": [
       "1"
      ]
     },
     "execution_count": 15,
     "metadata": {},
     "output_type": "execute_result"
    }
   ],
   "source": [
    "rdd.getNumPartitions()"
   ]
  },
  {
   "cell_type": "code",
   "execution_count": 16,
   "id": "77b60db6",
   "metadata": {},
   "outputs": [
    {
     "data": {
      "text/plain": [
       "[('John', 'IT', 45000, 10000),\n",
       " ('Max', 'IT', 25000, 15000),\n",
       " ('Shawn', 'HR', 50000, 5000),\n",
       " ('John', 'IT', 45000, 20000),\n",
       " ('Nick', 'HR', 40000, 10000),\n",
       " ('Sam', 'IT', 45000, 10000),\n",
       " ('Ricky', 'HR', 70000, 35000),\n",
       " ('Steve', 'IT', 20000, 10000),\n",
       " ('Mathew', 'IT', 35000, 15000)]"
      ]
     },
     "execution_count": 16,
     "metadata": {},
     "output_type": "execute_result"
    }
   ],
   "source": [
    "rdd.collect()"
   ]
  },
  {
   "cell_type": "code",
   "execution_count": 17,
   "id": "a4e4a25c",
   "metadata": {},
   "outputs": [],
   "source": [
    "# Add column names\n",
    "columns = [\"Name\", \"Dept\", \"Salary\", \"Incentive\"]\n",
    "df_2 = rdd.toDF(columns)"
   ]
  },
  {
   "cell_type": "code",
   "execution_count": 18,
   "id": "d4e47dd8",
   "metadata": {},
   "outputs": [
    {
     "name": "stdout",
     "output_type": "stream",
     "text": [
      "+------+----+------+---------+\n",
      "|  Name|Dept|Salary|Incentive|\n",
      "+------+----+------+---------+\n",
      "|  John|  IT| 45000|    10000|\n",
      "|   Max|  IT| 25000|    15000|\n",
      "| Shawn|  HR| 50000|     5000|\n",
      "|  John|  IT| 45000|    20000|\n",
      "|  Nick|  HR| 40000|    10000|\n",
      "|   Sam|  IT| 45000|    10000|\n",
      "| Ricky|  HR| 70000|    35000|\n",
      "| Steve|  IT| 20000|    10000|\n",
      "|Mathew|  IT| 35000|    15000|\n",
      "+------+----+------+---------+\n",
      "\n"
     ]
    }
   ],
   "source": [
    "df_2.show()"
   ]
  },
  {
   "cell_type": "code",
   "execution_count": 19,
   "id": "5ebdde1d",
   "metadata": {},
   "outputs": [],
   "source": [
    "# create dataframe using SparkSession\n",
    "# df_3 = spark.createDataFrame(rdd).toDF(*columns)"
   ]
  },
  {
   "cell_type": "code",
   "execution_count": 20,
   "id": "63d4a732",
   "metadata": {},
   "outputs": [
    {
     "name": "stdout",
     "output_type": "stream",
     "text": [
      "root\n",
      " |-- Name: string (nullable = true)\n",
      " |-- Dept: string (nullable = true)\n",
      " |-- Salary: long (nullable = true)\n",
      " |-- Incentive: long (nullable = true)\n",
      "\n"
     ]
    }
   ],
   "source": [
    "df_2.printSchema()"
   ]
  },
  {
   "cell_type": "code",
   "execution_count": 21,
   "id": "4fd35229",
   "metadata": {},
   "outputs": [],
   "source": [
    "# Create Dataframe with Schema"
   ]
  },
  {
   "cell_type": "code",
   "execution_count": 22,
   "id": "0449879f",
   "metadata": {},
   "outputs": [],
   "source": [
    "from pyspark.sql.types import StringType, StructType, IntegerType, StructField"
   ]
  },
  {
   "cell_type": "code",
   "execution_count": 23,
   "id": "8854a6de",
   "metadata": {},
   "outputs": [],
   "source": [
    "schema = StructType([\n",
    "    StructField(\"EmpName\", StringType()),\n",
    "    StructField(\"EmpDept\", StringType()),\n",
    "    StructField(\"EmpSal\", IntegerType()),\n",
    "    StructField(\"EmpIncentive\", IntegerType())\n",
    "])"
   ]
  },
  {
   "cell_type": "code",
   "execution_count": 24,
   "id": "f2dc6b06",
   "metadata": {},
   "outputs": [
    {
     "data": {
      "text/plain": [
       "StructType([StructField('EmpName', StringType(), True), StructField('EmpDept', StringType(), True), StructField('EmpSal', IntegerType(), True), StructField('EmpIncentive', IntegerType(), True)])"
      ]
     },
     "execution_count": 24,
     "metadata": {},
     "output_type": "execute_result"
    }
   ],
   "source": [
    "schema"
   ]
  },
  {
   "cell_type": "code",
   "execution_count": 25,
   "id": "782924b7",
   "metadata": {},
   "outputs": [],
   "source": [
    "df = spark.createDataFrame(data=data, schema=schema)"
   ]
  },
  {
   "cell_type": "code",
   "execution_count": 26,
   "id": "63e604cd",
   "metadata": {},
   "outputs": [
    {
     "name": "stdout",
     "output_type": "stream",
     "text": [
      "+-------+-------+------+------------+\n",
      "|EmpName|EmpDept|EmpSal|EmpIncentive|\n",
      "+-------+-------+------+------------+\n",
      "|   John|     IT| 45000|       10000|\n",
      "|    Max|     IT| 25000|       15000|\n",
      "|  Shawn|     HR| 50000|        5000|\n",
      "|   John|     IT| 45000|       20000|\n",
      "|   Nick|     HR| 40000|       10000|\n",
      "|    Sam|     IT| 45000|       10000|\n",
      "|  Ricky|     HR| 70000|       35000|\n",
      "|  Steve|     IT| 20000|       10000|\n",
      "| Mathew|     IT| 35000|       15000|\n",
      "+-------+-------+------+------------+\n",
      "\n"
     ]
    }
   ],
   "source": [
    "df.show()"
   ]
  },
  {
   "cell_type": "code",
   "execution_count": 28,
   "id": "b6d74920",
   "metadata": {},
   "outputs": [
    {
     "data": {
      "text/plain": [
       "4"
      ]
     },
     "execution_count": 28,
     "metadata": {},
     "output_type": "execute_result"
    }
   ],
   "source": [
    "# number of columns\n",
    "len(df.dtypes)"
   ]
  },
  {
   "cell_type": "code",
   "execution_count": 29,
   "id": "e3515d69",
   "metadata": {},
   "outputs": [
    {
     "data": {
      "text/plain": [
       "9"
      ]
     },
     "execution_count": 29,
     "metadata": {},
     "output_type": "execute_result"
    }
   ],
   "source": [
    "# number of rows\n",
    "df.count()"
   ]
  },
  {
   "cell_type": "code",
   "execution_count": 30,
   "id": "117fcf58",
   "metadata": {},
   "outputs": [
    {
     "name": "stdout",
     "output_type": "stream",
     "text": [
      "+-------+-------+------+------------+\n",
      "|EmpName|EmpDept|EmpSal|EmpIncentive|\n",
      "+-------+-------+------+------------+\n",
      "|   John|     IT| 45000|       10000|\n",
      "|    Max|     IT| 25000|       15000|\n",
      "|  Shawn|     HR| 50000|        5000|\n",
      "+-------+-------+------+------------+\n",
      "\n"
     ]
    }
   ],
   "source": [
    "# first 3 rows\n",
    "df.limit(3).show()"
   ]
  },
  {
   "cell_type": "code",
   "execution_count": 31,
   "id": "e7d445de",
   "metadata": {},
   "outputs": [
    {
     "data": {
      "text/html": [
       "<div>\n",
       "<style scoped>\n",
       "    .dataframe tbody tr th:only-of-type {\n",
       "        vertical-align: middle;\n",
       "    }\n",
       "\n",
       "    .dataframe tbody tr th {\n",
       "        vertical-align: top;\n",
       "    }\n",
       "\n",
       "    .dataframe thead th {\n",
       "        text-align: right;\n",
       "    }\n",
       "</style>\n",
       "<table border=\"1\" class=\"dataframe\">\n",
       "  <thead>\n",
       "    <tr style=\"text-align: right;\">\n",
       "      <th></th>\n",
       "      <th>EmpName</th>\n",
       "      <th>EmpDept</th>\n",
       "      <th>EmpSal</th>\n",
       "      <th>EmpIncentive</th>\n",
       "    </tr>\n",
       "  </thead>\n",
       "  <tbody>\n",
       "    <tr>\n",
       "      <th>0</th>\n",
       "      <td>John</td>\n",
       "      <td>IT</td>\n",
       "      <td>45000</td>\n",
       "      <td>10000</td>\n",
       "    </tr>\n",
       "    <tr>\n",
       "      <th>1</th>\n",
       "      <td>Max</td>\n",
       "      <td>IT</td>\n",
       "      <td>25000</td>\n",
       "      <td>15000</td>\n",
       "    </tr>\n",
       "    <tr>\n",
       "      <th>2</th>\n",
       "      <td>Shawn</td>\n",
       "      <td>HR</td>\n",
       "      <td>50000</td>\n",
       "      <td>5000</td>\n",
       "    </tr>\n",
       "  </tbody>\n",
       "</table>\n",
       "</div>"
      ],
      "text/plain": [
       "  EmpName EmpDept  EmpSal  EmpIncentive\n",
       "0    John      IT   45000         10000\n",
       "1     Max      IT   25000         15000\n",
       "2   Shawn      HR   50000          5000"
      ]
     },
     "execution_count": 31,
     "metadata": {},
     "output_type": "execute_result"
    }
   ],
   "source": [
    "df.limit(3).toPandas()"
   ]
  },
  {
   "cell_type": "code",
   "execution_count": 32,
   "id": "8a229f24",
   "metadata": {},
   "outputs": [
    {
     "name": "stdout",
     "output_type": "stream",
     "text": [
      "+-------+------+\n",
      "|EmpName|EmpSal|\n",
      "+-------+------+\n",
      "|   John| 45000|\n",
      "|    Max| 25000|\n",
      "|  Shawn| 50000|\n",
      "+-------+------+\n",
      "only showing top 3 rows\n",
      "\n"
     ]
    }
   ],
   "source": [
    "# print some specific columns only\n",
    "df.select(\"EmpName\", \"EmpSal\").show(3)"
   ]
  },
  {
   "cell_type": "code",
   "execution_count": 33,
   "id": "24acdc20",
   "metadata": {},
   "outputs": [
    {
     "name": "stdout",
     "output_type": "stream",
     "text": [
      "+-------+------+\n",
      "|EmpName|EmpSal|\n",
      "+-------+------+\n",
      "|   John| 45000|\n",
      "|    Max| 25000|\n",
      "|  Shawn| 50000|\n",
      "+-------+------+\n",
      "only showing top 3 rows\n",
      "\n"
     ]
    }
   ],
   "source": [
    "df.select(df.EmpName, df.EmpSal).show(3)"
   ]
  },
  {
   "cell_type": "code",
   "execution_count": 34,
   "id": "a78b344e",
   "metadata": {},
   "outputs": [
    {
     "name": "stdout",
     "output_type": "stream",
     "text": [
      "+-------+-------+------+\n",
      "|EmpName|EmpDept|EmpSal|\n",
      "+-------+-------+------+\n",
      "|   John|     IT| 45000|\n",
      "|    Max|     IT| 25000|\n",
      "|  Shawn|     HR| 50000|\n",
      "|   John|     IT| 45000|\n",
      "|   Nick|     HR| 40000|\n",
      "+-------+-------+------+\n",
      "only showing top 5 rows\n",
      "\n"
     ]
    }
   ],
   "source": [
    "# Indexing\n",
    "df.select(df.columns[:3]).show(5)"
   ]
  },
  {
   "cell_type": "code",
   "execution_count": 35,
   "id": "88dbc5d9",
   "metadata": {},
   "outputs": [
    {
     "name": "stdout",
     "output_type": "stream",
     "text": [
      "+-------+------+\n",
      "|EmpDept|EmpSal|\n",
      "+-------+------+\n",
      "|     IT| 45000|\n",
      "|     IT| 25000|\n",
      "|     HR| 50000|\n",
      "|     IT| 45000|\n",
      "|     HR| 40000|\n",
      "+-------+------+\n",
      "only showing top 5 rows\n",
      "\n"
     ]
    }
   ],
   "source": [
    "df.select(df.columns[1:3]).show(5)"
   ]
  },
  {
   "cell_type": "code",
   "execution_count": 36,
   "id": "73ac57e7",
   "metadata": {},
   "outputs": [],
   "source": [
    "from pyspark.sql.functions import col, lit"
   ]
  },
  {
   "cell_type": "code",
   "execution_count": 38,
   "id": "2b98e0fd",
   "metadata": {},
   "outputs": [
    {
     "name": "stdout",
     "output_type": "stream",
     "text": [
      "+-------+-------+------+------------+------------+\n",
      "|EmpName|EmpDept|EmpSal|EmpIncentive|Total Salary|\n",
      "+-------+-------+------+------------+------------+\n",
      "|   John|     IT| 45000|       10000|       50000|\n",
      "|    Max|     IT| 25000|       15000|       30000|\n",
      "|  Shawn|     HR| 50000|        5000|       55000|\n",
      "|   John|     IT| 45000|       20000|       50000|\n",
      "|   Nick|     HR| 40000|       10000|       45000|\n",
      "|    Sam|     IT| 45000|       10000|       50000|\n",
      "|  Ricky|     HR| 70000|       35000|       75000|\n",
      "|  Steve|     IT| 20000|       10000|       25000|\n",
      "| Mathew|     IT| 35000|       15000|       40000|\n",
      "+-------+-------+------+------------+------------+\n",
      "\n"
     ]
    }
   ],
   "source": [
    "df.withColumn(\"Total Salary\", col(\"EmpSal\") + 5000).show()"
   ]
  },
  {
   "cell_type": "code",
   "execution_count": 39,
   "id": "57378ce7",
   "metadata": {},
   "outputs": [
    {
     "name": "stdout",
     "output_type": "stream",
     "text": [
      "+-------+-------+------+------------+------------+\n",
      "|EmpName|EmpDept|EmpSal|EmpIncentive|Total Salary|\n",
      "+-------+-------+------+------------+------------+\n",
      "|   John|     IT| 45000|       10000|       55000|\n",
      "|    Max|     IT| 25000|       15000|       40000|\n",
      "|  Shawn|     HR| 50000|        5000|       55000|\n",
      "|   John|     IT| 45000|       20000|       65000|\n",
      "|   Nick|     HR| 40000|       10000|       50000|\n",
      "|    Sam|     IT| 45000|       10000|       55000|\n",
      "|  Ricky|     HR| 70000|       35000|      105000|\n",
      "|  Steve|     IT| 20000|       10000|       30000|\n",
      "| Mathew|     IT| 35000|       15000|       50000|\n",
      "+-------+-------+------+------------+------------+\n",
      "\n"
     ]
    }
   ],
   "source": [
    "# perform addition of 2 columns\n",
    "df.withColumn(\"Total Salary\", col(\"EmpSal\") + col(\"EmpIncentive\")).show()"
   ]
  },
  {
   "cell_type": "code",
   "execution_count": 41,
   "id": "15b33194",
   "metadata": {},
   "outputs": [
    {
     "name": "stdout",
     "output_type": "stream",
     "text": [
      "+-------+-------+------+------------+\n",
      "|EmpName|EmpDept|EmpSal|EmpIncentive|\n",
      "+-------+-------+------+------------+\n",
      "|   John|     IT| 45000|       10000|\n",
      "|    Max|     IT| 25000|       15000|\n",
      "|  Shawn|     HR| 50000|        5000|\n",
      "|   John|     IT| 45000|       20000|\n",
      "|   Nick|     HR| 40000|       10000|\n",
      "|    Sam|     IT| 45000|       10000|\n",
      "|  Ricky|     HR| 70000|       35000|\n",
      "|  Steve|     IT| 20000|       10000|\n",
      "| Mathew|     IT| 35000|       15000|\n",
      "+-------+-------+------+------------+\n",
      "\n"
     ]
    }
   ],
   "source": [
    "# change data type of a column\n",
    "df.withColumn(\"EmpSal\", col(\"EmpSal\").cast(\"Integer\")).show()"
   ]
  },
  {
   "cell_type": "code",
   "execution_count": 43,
   "id": "5c3deb52",
   "metadata": {},
   "outputs": [
    {
     "name": "stdout",
     "output_type": "stream",
     "text": [
      "+-------+-------+------+\n",
      "|EmpName|EmpDept|EmpSal|\n",
      "+-------+-------+------+\n",
      "|   John|     IT| 45000|\n",
      "|    Max|     IT| 25000|\n",
      "|  Shawn|     HR| 50000|\n",
      "|   John|     IT| 45000|\n",
      "+-------+-------+------+\n",
      "only showing top 4 rows\n",
      "\n"
     ]
    }
   ],
   "source": [
    "# Drop a column\n",
    "df.drop(\"EmpIncentive\").show(4)"
   ]
  },
  {
   "cell_type": "code",
   "execution_count": 45,
   "id": "4dd12456",
   "metadata": {},
   "outputs": [],
   "source": [
    "df = df.withColumn(\"EmpGender\", lit(\"Male\"))"
   ]
  },
  {
   "cell_type": "code",
   "execution_count": 46,
   "id": "8107bc48",
   "metadata": {},
   "outputs": [
    {
     "name": "stdout",
     "output_type": "stream",
     "text": [
      "+-------+-------+------+------------+---------+\n",
      "|EmpName|EmpDept|EmpSal|EmpIncentive|EmpGender|\n",
      "+-------+-------+------+------------+---------+\n",
      "|   John|     IT| 45000|       10000|     Male|\n",
      "|    Max|     IT| 25000|       15000|     Male|\n",
      "|  Shawn|     HR| 50000|        5000|     Male|\n",
      "|   John|     IT| 45000|       20000|     Male|\n",
      "|   Nick|     HR| 40000|       10000|     Male|\n",
      "|    Sam|     IT| 45000|       10000|     Male|\n",
      "|  Ricky|     HR| 70000|       35000|     Male|\n",
      "|  Steve|     IT| 20000|       10000|     Male|\n",
      "| Mathew|     IT| 35000|       15000|     Male|\n",
      "+-------+-------+------+------------+---------+\n",
      "\n"
     ]
    }
   ],
   "source": [
    "df.show()"
   ]
  },
  {
   "cell_type": "code",
   "execution_count": 47,
   "id": "168a40ac",
   "metadata": {},
   "outputs": [],
   "source": [
    "# Filter data"
   ]
  },
  {
   "cell_type": "code",
   "execution_count": 48,
   "id": "84727c08",
   "metadata": {},
   "outputs": [
    {
     "name": "stdout",
     "output_type": "stream",
     "text": [
      "+-------+-------+------+------------+---------+\n",
      "|EmpName|EmpDept|EmpSal|EmpIncentive|EmpGender|\n",
      "+-------+-------+------+------------+---------+\n",
      "|   John|     IT| 45000|       10000|     Male|\n",
      "|    Max|     IT| 25000|       15000|     Male|\n",
      "|   John|     IT| 45000|       20000|     Male|\n",
      "|    Sam|     IT| 45000|       10000|     Male|\n",
      "|  Steve|     IT| 20000|       10000|     Male|\n",
      "| Mathew|     IT| 35000|       15000|     Male|\n",
      "+-------+-------+------+------------+---------+\n",
      "\n"
     ]
    }
   ],
   "source": [
    "df.filter(col(\"EmpDept\") == \"IT\").show()"
   ]
  },
  {
   "cell_type": "code",
   "execution_count": 49,
   "id": "74df9768",
   "metadata": {},
   "outputs": [
    {
     "name": "stdout",
     "output_type": "stream",
     "text": [
      "+-------+-------+------+------------+---------+\n",
      "|EmpName|EmpDept|EmpSal|EmpIncentive|EmpGender|\n",
      "+-------+-------+------+------------+---------+\n",
      "|   John|     IT| 45000|       10000|     Male|\n",
      "|    Max|     IT| 25000|       15000|     Male|\n",
      "|   John|     IT| 45000|       20000|     Male|\n",
      "|    Sam|     IT| 45000|       10000|     Male|\n",
      "|  Steve|     IT| 20000|       10000|     Male|\n",
      "| Mathew|     IT| 35000|       15000|     Male|\n",
      "+-------+-------+------+------------+---------+\n",
      "\n"
     ]
    }
   ],
   "source": [
    "df.filter(df.EmpDept == \"IT\").show()"
   ]
  },
  {
   "cell_type": "code",
   "execution_count": 50,
   "id": "d3aad2c1",
   "metadata": {},
   "outputs": [
    {
     "name": "stdout",
     "output_type": "stream",
     "text": [
      "+-------+-------+------+------------+---------+\n",
      "|EmpName|EmpDept|EmpSal|EmpIncentive|EmpGender|\n",
      "+-------+-------+------+------------+---------+\n",
      "|  Shawn|     HR| 50000|        5000|     Male|\n",
      "|   Nick|     HR| 40000|       10000|     Male|\n",
      "|  Ricky|     HR| 70000|       35000|     Male|\n",
      "+-------+-------+------+------------+---------+\n",
      "\n"
     ]
    }
   ],
   "source": [
    "df.filter(df.EmpDept != \"IT\").show()"
   ]
  },
  {
   "cell_type": "code",
   "execution_count": 51,
   "id": "48fa7581",
   "metadata": {},
   "outputs": [
    {
     "name": "stdout",
     "output_type": "stream",
     "text": [
      "+-------+-------+------+------------+---------+\n",
      "|EmpName|EmpDept|EmpSal|EmpIncentive|EmpGender|\n",
      "+-------+-------+------+------------+---------+\n",
      "|   John|     IT| 45000|       10000|     Male|\n",
      "|   John|     IT| 45000|       20000|     Male|\n",
      "|    Sam|     IT| 45000|       10000|     Male|\n",
      "+-------+-------+------+------------+---------+\n",
      "\n"
     ]
    }
   ],
   "source": [
    "df.filter((df.EmpDept == \"IT\") & (df.EmpSal >= 40000)).show()"
   ]
  },
  {
   "cell_type": "code",
   "execution_count": 53,
   "id": "33f0818c",
   "metadata": {},
   "outputs": [
    {
     "name": "stdout",
     "output_type": "stream",
     "text": [
      "+-------+-------+------+------------+---------+\n",
      "|EmpName|EmpDept|EmpSal|EmpIncentive|EmpGender|\n",
      "+-------+-------+------+------------+---------+\n",
      "|  Steve|     IT| 20000|       10000|     Male|\n",
      "|    Max|     IT| 25000|       15000|     Male|\n",
      "| Mathew|     IT| 35000|       15000|     Male|\n",
      "|   Nick|     HR| 40000|       10000|     Male|\n",
      "|   John|     IT| 45000|       10000|     Male|\n",
      "+-------+-------+------+------------+---------+\n",
      "only showing top 5 rows\n",
      "\n"
     ]
    }
   ],
   "source": [
    "# Sort data - by default ascending order\n",
    "df.sort(col(\"EmpSal\")).show(5)"
   ]
  },
  {
   "cell_type": "code",
   "execution_count": 55,
   "id": "4575a0f6",
   "metadata": {},
   "outputs": [
    {
     "name": "stdout",
     "output_type": "stream",
     "text": [
      "+-------+-------+------+------------+---------+\n",
      "|EmpName|EmpDept|EmpSal|EmpIncentive|EmpGender|\n",
      "+-------+-------+------+------------+---------+\n",
      "|  Ricky|     HR| 70000|       35000|     Male|\n",
      "|  Shawn|     HR| 50000|        5000|     Male|\n",
      "|   John|     IT| 45000|       10000|     Male|\n",
      "|   John|     IT| 45000|       20000|     Male|\n",
      "|    Sam|     IT| 45000|       10000|     Male|\n",
      "+-------+-------+------+------------+---------+\n",
      "only showing top 5 rows\n",
      "\n"
     ]
    }
   ],
   "source": [
    "# sort data in desc order\n",
    "df.sort(col(\"EmpSal\").desc()).show(5)"
   ]
  },
  {
   "cell_type": "code",
   "execution_count": 56,
   "id": "55eb3971",
   "metadata": {},
   "outputs": [
    {
     "name": "stdout",
     "output_type": "stream",
     "text": [
      "+-------+-----------+\n",
      "|EmpDept|sum(EmpSal)|\n",
      "+-------+-----------+\n",
      "|     HR|     160000|\n",
      "|     IT|     215000|\n",
      "+-------+-----------+\n",
      "\n"
     ]
    }
   ],
   "source": [
    "# Group By\n",
    "df.groupBy(\"EmpDept\").sum(\"EmpSal\").show()"
   ]
  },
  {
   "cell_type": "code",
   "execution_count": 57,
   "id": "01b6aa76",
   "metadata": {},
   "outputs": [],
   "source": [
    "from pyspark.sql.functions import sum, avg, min, max, count"
   ]
  },
  {
   "cell_type": "code",
   "execution_count": 58,
   "id": "0738baf3",
   "metadata": {},
   "outputs": [
    {
     "name": "stdout",
     "output_type": "stream",
     "text": [
      "+-------+------------+----------+------------------+\n",
      "|EmpDept|Total Salary|Max Salary|    Average Salary|\n",
      "+-------+------------+----------+------------------+\n",
      "|     HR|      160000|     70000|53333.333333333336|\n",
      "|     IT|      215000|     45000|35833.333333333336|\n",
      "+-------+------------+----------+------------------+\n",
      "\n"
     ]
    }
   ],
   "source": [
    "df.groupBy(\"EmpDept\").agg(sum(\"EmpSal\").alias(\"Total Salary\"),\n",
    "                         max(\"EmpSal\").alias(\"Max Salary\"),\n",
    "                         avg(\"EmpSal\").alias(\"Average Salary\")).show()"
   ]
  },
  {
   "cell_type": "code",
   "execution_count": null,
   "id": "98ba234f",
   "metadata": {},
   "outputs": [],
   "source": []
  }
 ],
 "metadata": {
  "kernelspec": {
   "display_name": "Python 3 (ipykernel)",
   "language": "python",
   "name": "python3"
  },
  "language_info": {
   "codemirror_mode": {
    "name": "ipython",
    "version": 3
   },
   "file_extension": ".py",
   "mimetype": "text/x-python",
   "name": "python",
   "nbconvert_exporter": "python",
   "pygments_lexer": "ipython3",
   "version": "3.9.13"
  }
 },
 "nbformat": 4,
 "nbformat_minor": 5
}
