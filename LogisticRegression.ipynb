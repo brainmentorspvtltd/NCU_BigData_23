{
 "cells": [
  {
   "cell_type": "code",
   "execution_count": 4,
   "id": "38dddf7e",
   "metadata": {},
   "outputs": [],
   "source": [
    "from pyspark.sql import SparkSession\n",
    "from pyspark.mllib.stat import Statistics\n",
    "import pyspark.sql.functions as fun\n",
    "import matplotlib.pyplot as plt\n",
    "from pyspark.ml.feature import VectorAssembler, StringIndexer, StandardScaler\n",
    "from pyspark.ml import Pipeline\n",
    "from sklearn.metrics import confusion_matrix\n",
    "from pyspark.ml.classification import LogisticRegression\n",
    "import os, sys"
   ]
  },
  {
   "cell_type": "code",
   "execution_count": 5,
   "id": "d6af7edd",
   "metadata": {},
   "outputs": [],
   "source": [
    "os.environ['PYSPARK_PYTHON'] = sys.executable\n",
    "os.environ['PYSPAK_DRIVER_PYTHON'] = sys.executable"
   ]
  },
  {
   "cell_type": "code",
   "execution_count": 6,
   "id": "a1c5563d",
   "metadata": {},
   "outputs": [],
   "source": [
    "spark = SparkSession.builder.master(\"local[2]\").appName(\"ML_LogisticRegression\").getOrCreate()"
   ]
  },
  {
   "cell_type": "code",
   "execution_count": 7,
   "id": "905009d8",
   "metadata": {},
   "outputs": [
    {
     "data": {
      "text/html": [
       "\n",
       "            <div>\n",
       "                <p><b>SparkSession - in-memory</b></p>\n",
       "                \n",
       "        <div>\n",
       "            <p><b>SparkContext</b></p>\n",
       "\n",
       "            <p><a href=\"http://LAPTOP-69NKCP74.bbrouter:4041\">Spark UI</a></p>\n",
       "\n",
       "            <dl>\n",
       "              <dt>Version</dt>\n",
       "                <dd><code>v3.4.1</code></dd>\n",
       "              <dt>Master</dt>\n",
       "                <dd><code>local[2]</code></dd>\n",
       "              <dt>AppName</dt>\n",
       "                <dd><code>ML_LogisticRegression</code></dd>\n",
       "            </dl>\n",
       "        </div>\n",
       "        \n",
       "            </div>\n",
       "        "
      ],
      "text/plain": [
       "<pyspark.sql.session.SparkSession at 0x21411d504f0>"
      ]
     },
     "execution_count": 7,
     "metadata": {},
     "output_type": "execute_result"
    }
   ],
   "source": [
    "spark"
   ]
  },
  {
   "cell_type": "code",
   "execution_count": 12,
   "id": "f2e77638",
   "metadata": {},
   "outputs": [],
   "source": [
    "df = spark.read.csv(\"diabetes.csv\", header=True, inferSchema=True)"
   ]
  },
  {
   "cell_type": "code",
   "execution_count": 13,
   "id": "4af002df",
   "metadata": {},
   "outputs": [
    {
     "name": "stdout",
     "output_type": "stream",
     "text": [
      "+-----------+-------+-------------+-------------+-------+----+------------------------+---+-------+\n",
      "|Pregnancies|Glucose|BloodPressure|SkinThickness|Insulin| BMI|DiabetesPedigreeFunction|Age|Outcome|\n",
      "+-----------+-------+-------------+-------------+-------+----+------------------------+---+-------+\n",
      "|          6|    148|           72|           35|      0|33.6|                   0.627| 50|      1|\n",
      "|          1|     85|           66|           29|      0|26.6|                   0.351| 31|      0|\n",
      "|          8|    183|           64|            0|      0|23.3|                   0.672| 32|      1|\n",
      "|          1|     89|           66|           23|     94|28.1|                   0.167| 21|      0|\n",
      "|          0|    137|           40|           35|    168|43.1|                   2.288| 33|      1|\n",
      "+-----------+-------+-------------+-------------+-------+----+------------------------+---+-------+\n",
      "only showing top 5 rows\n",
      "\n"
     ]
    }
   ],
   "source": [
    "df.show(5)"
   ]
  },
  {
   "cell_type": "code",
   "execution_count": 14,
   "id": "8f4932a4",
   "metadata": {},
   "outputs": [
    {
     "name": "stdout",
     "output_type": "stream",
     "text": [
      "root\n",
      " |-- Pregnancies: integer (nullable = true)\n",
      " |-- Glucose: integer (nullable = true)\n",
      " |-- BloodPressure: integer (nullable = true)\n",
      " |-- SkinThickness: integer (nullable = true)\n",
      " |-- Insulin: integer (nullable = true)\n",
      " |-- BMI: double (nullable = true)\n",
      " |-- DiabetesPedigreeFunction: double (nullable = true)\n",
      " |-- Age: integer (nullable = true)\n",
      " |-- Outcome: integer (nullable = true)\n",
      "\n"
     ]
    }
   ],
   "source": [
    "df.printSchema()"
   ]
  },
  {
   "cell_type": "code",
   "execution_count": 15,
   "id": "2615c8c0",
   "metadata": {},
   "outputs": [
    {
     "data": {
      "text/plain": [
       "[('Pregnancies', 'int'),\n",
       " ('Glucose', 'int'),\n",
       " ('BloodPressure', 'int'),\n",
       " ('SkinThickness', 'int'),\n",
       " ('Insulin', 'int'),\n",
       " ('BMI', 'double'),\n",
       " ('DiabetesPedigreeFunction', 'double'),\n",
       " ('Age', 'int'),\n",
       " ('Outcome', 'int')]"
      ]
     },
     "execution_count": 15,
     "metadata": {},
     "output_type": "execute_result"
    }
   ],
   "source": [
    "df.dtypes"
   ]
  },
  {
   "cell_type": "code",
   "execution_count": 17,
   "id": "300b9b6a",
   "metadata": {},
   "outputs": [
    {
     "name": "stdout",
     "output_type": "stream",
     "text": [
      "+-------+-----------------+------------------+------------------+------------------+\n",
      "|summary|          Glucose|           Insulin|               BMI|               Age|\n",
      "+-------+-----------------+------------------+------------------+------------------+\n",
      "|  count|              768|               768|               768|               768|\n",
      "|   mean|     120.89453125| 79.79947916666667|31.992578124999977|33.240885416666664|\n",
      "| stddev|31.97261819513622|115.24400235133803| 7.884160320375441|11.760231540678689|\n",
      "|    min|                0|                 0|               0.0|                21|\n",
      "|    max|              199|               846|              67.1|                81|\n",
      "+-------+-----------------+------------------+------------------+------------------+\n",
      "\n"
     ]
    }
   ],
   "source": [
    "df.select(\"Glucose\",\"Insulin\",\"BMI\",\"Age\").describe().show()"
   ]
  },
  {
   "cell_type": "code",
   "execution_count": 18,
   "id": "2075d8cc",
   "metadata": {},
   "outputs": [
    {
     "data": {
      "text/html": [
       "<div>\n",
       "<style scoped>\n",
       "    .dataframe tbody tr th:only-of-type {\n",
       "        vertical-align: middle;\n",
       "    }\n",
       "\n",
       "    .dataframe tbody tr th {\n",
       "        vertical-align: top;\n",
       "    }\n",
       "\n",
       "    .dataframe thead th {\n",
       "        text-align: right;\n",
       "    }\n",
       "</style>\n",
       "<table border=\"1\" class=\"dataframe\">\n",
       "  <thead>\n",
       "    <tr style=\"text-align: right;\">\n",
       "      <th></th>\n",
       "      <th>summary</th>\n",
       "      <th>Glucose</th>\n",
       "      <th>Insulin</th>\n",
       "      <th>BMI</th>\n",
       "      <th>Age</th>\n",
       "    </tr>\n",
       "  </thead>\n",
       "  <tbody>\n",
       "    <tr>\n",
       "      <th>0</th>\n",
       "      <td>count</td>\n",
       "      <td>768</td>\n",
       "      <td>768</td>\n",
       "      <td>768</td>\n",
       "      <td>768</td>\n",
       "    </tr>\n",
       "    <tr>\n",
       "      <th>1</th>\n",
       "      <td>mean</td>\n",
       "      <td>120.89453125</td>\n",
       "      <td>79.79947916666667</td>\n",
       "      <td>31.992578124999977</td>\n",
       "      <td>33.240885416666664</td>\n",
       "    </tr>\n",
       "    <tr>\n",
       "      <th>2</th>\n",
       "      <td>stddev</td>\n",
       "      <td>31.97261819513622</td>\n",
       "      <td>115.24400235133803</td>\n",
       "      <td>7.884160320375441</td>\n",
       "      <td>11.760231540678689</td>\n",
       "    </tr>\n",
       "    <tr>\n",
       "      <th>3</th>\n",
       "      <td>min</td>\n",
       "      <td>0</td>\n",
       "      <td>0</td>\n",
       "      <td>0.0</td>\n",
       "      <td>21</td>\n",
       "    </tr>\n",
       "    <tr>\n",
       "      <th>4</th>\n",
       "      <td>max</td>\n",
       "      <td>199</td>\n",
       "      <td>846</td>\n",
       "      <td>67.1</td>\n",
       "      <td>81</td>\n",
       "    </tr>\n",
       "  </tbody>\n",
       "</table>\n",
       "</div>"
      ],
      "text/plain": [
       "  summary            Glucose             Insulin                 BMI  \\\n",
       "0   count                768                 768                 768   \n",
       "1    mean       120.89453125   79.79947916666667  31.992578124999977   \n",
       "2  stddev  31.97261819513622  115.24400235133803   7.884160320375441   \n",
       "3     min                  0                   0                 0.0   \n",
       "4     max                199                 846                67.1   \n",
       "\n",
       "                  Age  \n",
       "0                 768  \n",
       "1  33.240885416666664  \n",
       "2  11.760231540678689  \n",
       "3                  21  \n",
       "4                  81  "
      ]
     },
     "execution_count": 18,
     "metadata": {},
     "output_type": "execute_result"
    }
   ],
   "source": [
    "df.select(\"Glucose\",\"Insulin\",\"BMI\",\"Age\").describe().toPandas()"
   ]
  },
  {
   "cell_type": "code",
   "execution_count": 19,
   "id": "fdab3bb2",
   "metadata": {},
   "outputs": [
    {
     "name": "stdout",
     "output_type": "stream",
     "text": [
      "+-----------+-------+-------------+-------------+-------+---+------------------------+---+-------+\n",
      "|Pregnancies|Glucose|BloodPressure|SkinThickness|Insulin|BMI|DiabetesPedigreeFunction|Age|Outcome|\n",
      "+-----------+-------+-------------+-------------+-------+---+------------------------+---+-------+\n",
      "|          0|      0|            0|            0|      0|  0|                       0|  0|      0|\n",
      "+-----------+-------+-------------+-------------+-------+---+------------------------+---+-------+\n",
      "\n"
     ]
    }
   ],
   "source": [
    "df.agg(*[fun.count(fun.when(fun.isnull(column),column)).alias(column) for column in df.columns]).show()"
   ]
  },
  {
   "cell_type": "code",
   "execution_count": 22,
   "id": "2ef3f58b",
   "metadata": {},
   "outputs": [],
   "source": [
    "feature_names = df.columns[:-1]"
   ]
  },
  {
   "cell_type": "code",
   "execution_count": 23,
   "id": "e9399c1a",
   "metadata": {},
   "outputs": [],
   "source": [
    "assembler = VectorAssembler(inputCols=feature_names, outputCol=\"features\")\n",
    "output = assembler.transform(df).select(\"features\",\"Outcome\")"
   ]
  },
  {
   "cell_type": "code",
   "execution_count": 24,
   "id": "a910f0ae",
   "metadata": {},
   "outputs": [
    {
     "name": "stdout",
     "output_type": "stream",
     "text": [
      "+--------------------+-------+\n",
      "|            features|Outcome|\n",
      "+--------------------+-------+\n",
      "|[6.0,148.0,72.0,3...|      1|\n",
      "|[1.0,85.0,66.0,29...|      0|\n",
      "|[8.0,183.0,64.0,0...|      1|\n",
      "|[1.0,89.0,66.0,23...|      0|\n",
      "|[0.0,137.0,40.0,3...|      1|\n",
      "+--------------------+-------+\n",
      "only showing top 5 rows\n",
      "\n"
     ]
    }
   ],
   "source": [
    "output.show(5)"
   ]
  },
  {
   "cell_type": "code",
   "execution_count": 26,
   "id": "08838b2b",
   "metadata": {},
   "outputs": [],
   "source": [
    "model = LogisticRegression(featuresCol='features', labelCol='Outcome')\n",
    "lr = model.fit(output)"
   ]
  },
  {
   "cell_type": "code",
   "execution_count": 27,
   "id": "140cf8a6",
   "metadata": {},
   "outputs": [],
   "source": [
    "train_pred = lr.transform(output)"
   ]
  },
  {
   "cell_type": "code",
   "execution_count": 30,
   "id": "9b2b4e69",
   "metadata": {},
   "outputs": [
    {
     "name": "stdout",
     "output_type": "stream",
     "text": [
      "+--------------------+-------+--------------------+--------------------+----------+\n",
      "|            features|Outcome|       rawPrediction|         probability|prediction|\n",
      "+--------------------+-------+--------------------+--------------------+----------+\n",
      "|[6.0,148.0,72.0,3...|      1|[-0.9530408668208...|[0.27827369047981...|       1.0|\n",
      "|[1.0,85.0,66.0,29...|      0|[2.97341146352460...|[0.95135838784677...|       0.0|\n",
      "|[8.0,183.0,64.0,0...|      1|[-1.3658075861049...|[0.20329803850396...|       1.0|\n",
      "|[1.0,89.0,66.0,23...|      0|[3.13654116462476...|[0.95837511852188...|       0.0|\n",
      "|[0.0,137.0,40.0,3...|      1|[-2.2217285429299...|[0.09781615748915...|       1.0|\n",
      "|[5.0,116.0,74.0,0...|      0|[1.76126797585237...|[0.85336839410502...|       0.0|\n",
      "|[3.0,78.0,50.0,32...|      1|[2.64049056654504...|[0.93342245715274...|       0.0|\n",
      "|[10.0,115.0,0.0,0...|      0|[-0.5952541339566...|[0.35543022217229...|       1.0|\n",
      "|[2.0,197.0,70.0,4...|      1|[-0.8922668221487...|[0.29064225652028...|       1.0|\n",
      "|[8.0,125.0,96.0,0...|      1|[3.27793944527679...|[0.96366420114727...|       0.0|\n",
      "+--------------------+-------+--------------------+--------------------+----------+\n",
      "only showing top 10 rows\n",
      "\n"
     ]
    }
   ],
   "source": [
    "train_pred.show(10)"
   ]
  },
  {
   "cell_type": "code",
   "execution_count": 31,
   "id": "891df2ba",
   "metadata": {},
   "outputs": [],
   "source": [
    "y_true = train_pred.select(\"Outcome\")\n",
    "y_true = y_true.toPandas()\n",
    "\n",
    "y_pred = train_pred.select(\"prediction\")\n",
    "y_pred = y_pred.toPandas()"
   ]
  },
  {
   "cell_type": "code",
   "execution_count": 32,
   "id": "e758c4e8",
   "metadata": {},
   "outputs": [],
   "source": [
    "from sklearn.metrics import accuracy_score"
   ]
  },
  {
   "cell_type": "code",
   "execution_count": 33,
   "id": "b8efb3e2",
   "metadata": {},
   "outputs": [
    {
     "data": {
      "text/plain": [
       "0.7825520833333334"
      ]
     },
     "execution_count": 33,
     "metadata": {},
     "output_type": "execute_result"
    }
   ],
   "source": [
    "accuracy_score(y_true, y_pred)"
   ]
  },
  {
   "cell_type": "code",
   "execution_count": 34,
   "id": "fe9dc26f",
   "metadata": {},
   "outputs": [
    {
     "data": {
      "text/plain": [
       "array([[445,  55],\n",
       "       [112, 156]], dtype=int64)"
      ]
     },
     "execution_count": 34,
     "metadata": {},
     "output_type": "execute_result"
    }
   ],
   "source": [
    "confusion_matrix(y_true, y_pred)"
   ]
  },
  {
   "cell_type": "code",
   "execution_count": 36,
   "id": "151a11e8",
   "metadata": {},
   "outputs": [],
   "source": [
    "import seaborn as sns"
   ]
  },
  {
   "cell_type": "code",
   "execution_count": 38,
   "id": "2fc81f09",
   "metadata": {},
   "outputs": [
    {
     "data": {
      "image/png": "[encoded data removed]",
      "text/plain": [
       "<Figure size 640x480 with 2 Axes>"
      ]
     },
     "metadata": {},
     "output_type": "display_data"
    }
   ],
   "source": [
    "sns.heatmap(confusion_matrix(y_true, y_pred),annot=True)\n",
    "plt.show()"
   ]
  },
  {
   "cell_type": "code",
   "execution_count": null,
   "id": "36b7064f",
   "metadata": {},
   "outputs": [],
   "source": []
  }
 ],
 "metadata": {
  "kernelspec": {
   "display_name": "Python 3 (ipykernel)",
   "language": "python",
   "name": "python3"
  },
  "language_info": {
   "codemirror_mode": {
    "name": "ipython",
    "version": 3
   },
   "file_extension": ".py",
   "mimetype": "text/x-python",
   "name": "python",
   "nbconvert_exporter": "python",
   "pygments_lexer": "ipython3",
   "version": "3.9.13"
  }
 },
 "nbformat": 4,
 "nbformat_minor": 5
}
