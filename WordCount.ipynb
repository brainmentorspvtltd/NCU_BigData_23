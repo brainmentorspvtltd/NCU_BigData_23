{
 "cells": [
  {
   "cell_type": "code",
   "execution_count": 1,
   "id": "9e57fe8c",
   "metadata": {},
   "outputs": [],
   "source": [
    "import os, sys\n",
    "from pyspark.sql import SparkSession"
   ]
  },
  {
   "cell_type": "code",
   "execution_count": 2,
   "id": "58cfa910",
   "metadata": {},
   "outputs": [],
   "source": [
    "os.environ[\"PYSPARK_PYTHON\"] = sys.executable\n",
    "os.environ[\"PYSPARK_DRIVER_PYTHON\"] = sys.executable"
   ]
  },
  {
   "cell_type": "code",
   "execution_count": 3,
   "id": "521e6331",
   "metadata": {},
   "outputs": [],
   "source": [
    "spark = SparkSession.builder.master(\"local[1]\").appName(\"App_2\").getOrCreate()"
   ]
  },
  {
   "cell_type": "code",
   "execution_count": 4,
   "id": "107a279d",
   "metadata": {},
   "outputs": [
    {
     "data": {
      "text/html": [
       "\n",
       "            <div>\n",
       "                <p><b>SparkSession - in-memory</b></p>\n",
       "                \n",
       "        <div>\n",
       "            <p><b>SparkContext</b></p>\n",
       "\n",
       "            <p><a href=\"http://LAPTOP-69NKCP74.bbrouter:4041\">Spark UI</a></p>\n",
       "\n",
       "            <dl>\n",
       "              <dt>Version</dt>\n",
       "                <dd><code>v3.4.1</code></dd>\n",
       "              <dt>Master</dt>\n",
       "                <dd><code>local[1]</code></dd>\n",
       "              <dt>AppName</dt>\n",
       "                <dd><code>App_2</code></dd>\n",
       "            </dl>\n",
       "        </div>\n",
       "        \n",
       "            </div>\n",
       "        "
      ],
      "text/plain": [
       "<pyspark.sql.session.SparkSession at 0x295c9c53d00>"
      ]
     },
     "execution_count": 4,
     "metadata": {},
     "output_type": "execute_result"
    }
   ],
   "source": [
    "spark"
   ]
  },
  {
   "cell_type": "code",
   "execution_count": 5,
   "id": "f07ba487",
   "metadata": {},
   "outputs": [],
   "source": [
    "rdd = spark.sparkContext.textFile(\"demo_file.txt\")"
   ]
  },
  {
   "cell_type": "code",
   "execution_count": 6,
   "id": "f1288d62",
   "metadata": {},
   "outputs": [
    {
     "data": {
      "text/plain": [
       "1"
      ]
     },
     "execution_count": 6,
     "metadata": {},
     "output_type": "execute_result"
    }
   ],
   "source": [
    "rdd.getNumPartitions()"
   ]
  },
  {
   "cell_type": "code",
   "execution_count": 7,
   "id": "bcdedb31",
   "metadata": {},
   "outputs": [
    {
     "data": {
      "text/plain": [
       "['Hello how are you hello there hello hi hi hello how car bike car car bike bike bus bus truck train truck bike']"
      ]
     },
     "execution_count": 7,
     "metadata": {},
     "output_type": "execute_result"
    }
   ],
   "source": [
    "rdd.collect()"
   ]
  },
  {
   "cell_type": "markdown",
   "id": "2877dbd5",
   "metadata": {},
   "source": [
    "# Transformations"
   ]
  },
  {
   "cell_type": "code",
   "execution_count": 15,
   "id": "d977a822",
   "metadata": {},
   "outputs": [],
   "source": [
    "# Tokenization\n",
    "rdd_2 = rdd.flatMap(lambda x : x.lower().split(\" \"))"
   ]
  },
  {
   "cell_type": "code",
   "execution_count": 16,
   "id": "5eebb89a",
   "metadata": {},
   "outputs": [
    {
     "name": "stdout",
     "output_type": "stream",
     "text": [
      "['hello', 'how', 'are', 'you', 'hello', 'there', 'hello', 'hi', 'hi', 'hello', 'how', 'car', 'bike', 'car', 'car', 'bike', 'bike', 'bus', 'bus', 'truck', 'train', 'truck', 'bike']\n"
     ]
    }
   ],
   "source": [
    "print(rdd_2.collect())"
   ]
  },
  {
   "cell_type": "code",
   "execution_count": 17,
   "id": "bca8a89d",
   "metadata": {},
   "outputs": [],
   "source": [
    "rdd_3 = rdd_2.map(lambda x : (x,1))"
   ]
  },
  {
   "cell_type": "code",
   "execution_count": 18,
   "id": "1b164320",
   "metadata": {},
   "outputs": [
    {
     "name": "stdout",
     "output_type": "stream",
     "text": [
      "[('hello', 1), ('how', 1), ('are', 1), ('you', 1), ('hello', 1), ('there', 1), ('hello', 1), ('hi', 1), ('hi', 1), ('hello', 1), ('how', 1), ('car', 1), ('bike', 1), ('car', 1), ('car', 1), ('bike', 1), ('bike', 1), ('bus', 1), ('bus', 1), ('truck', 1), ('train', 1), ('truck', 1), ('bike', 1)]\n"
     ]
    }
   ],
   "source": [
    "print(rdd_3.collect())"
   ]
  },
  {
   "cell_type": "code",
   "execution_count": 19,
   "id": "8be7631d",
   "metadata": {},
   "outputs": [],
   "source": [
    "rdd_4 = rdd_3.reduceByKey(lambda a,b : a + b)"
   ]
  },
  {
   "cell_type": "code",
   "execution_count": 20,
   "id": "aba1e589",
   "metadata": {},
   "outputs": [
    {
     "name": "stdout",
     "output_type": "stream",
     "text": [
      "[('hello', 4), ('how', 2), ('are', 1), ('you', 1), ('there', 1), ('hi', 2), ('car', 3), ('bike', 4), ('bus', 2), ('truck', 2), ('train', 1)]\n"
     ]
    }
   ],
   "source": [
    "print(rdd_4.collect())"
   ]
  },
  {
   "cell_type": "code",
   "execution_count": 21,
   "id": "317f104e",
   "metadata": {},
   "outputs": [
    {
     "name": "stdout",
     "output_type": "stream",
     "text": [
      "[(1, 'are'), (1, 'you'), (1, 'there'), (1, 'train'), (2, 'how'), (2, 'hi'), (2, 'bus'), (2, 'truck'), (3, 'car'), (4, 'hello'), (4, 'bike')]\n"
     ]
    }
   ],
   "source": [
    "rdd_5 = rdd_4.map(lambda x : (x[1], x[0])).sortByKey()\n",
    "print(rdd_5.collect())"
   ]
  },
  {
   "cell_type": "markdown",
   "id": "4c20df13",
   "metadata": {},
   "source": [
    "# Action"
   ]
  },
  {
   "cell_type": "code",
   "execution_count": 22,
   "id": "fcd40ea4",
   "metadata": {},
   "outputs": [
    {
     "data": {
      "text/plain": [
       "11"
      ]
     },
     "execution_count": 22,
     "metadata": {},
     "output_type": "execute_result"
    }
   ],
   "source": [
    "rdd_5.count()"
   ]
  },
  {
   "cell_type": "code",
   "execution_count": 23,
   "id": "80cf1f63",
   "metadata": {},
   "outputs": [
    {
     "data": {
      "text/plain": [
       "(1, 'are')"
      ]
     },
     "execution_count": 23,
     "metadata": {},
     "output_type": "execute_result"
    }
   ],
   "source": [
    "rdd_5.first()"
   ]
  },
  {
   "cell_type": "code",
   "execution_count": 24,
   "id": "f4b83cbe",
   "metadata": {},
   "outputs": [
    {
     "data": {
      "text/plain": [
       "(4, 'hello')"
      ]
     },
     "execution_count": 24,
     "metadata": {},
     "output_type": "execute_result"
    }
   ],
   "source": [
    "rdd_5.max()"
   ]
  },
  {
   "cell_type": "code",
   "execution_count": 25,
   "id": "d76a60d3",
   "metadata": {},
   "outputs": [
    {
     "data": {
      "text/plain": [
       "(1, 'are')"
      ]
     },
     "execution_count": 25,
     "metadata": {},
     "output_type": "execute_result"
    }
   ],
   "source": [
    "rdd_5.min()"
   ]
  },
  {
   "cell_type": "code",
   "execution_count": 26,
   "id": "18e403f6",
   "metadata": {},
   "outputs": [
    {
     "name": "stdout",
     "output_type": "stream",
     "text": [
      "(23,)\n"
     ]
    }
   ],
   "source": [
    "print(rdd_5.reduce(lambda a,b : (a[0] + b[0],)))"
   ]
  },
  {
   "cell_type": "code",
   "execution_count": null,
   "id": "56ee677e",
   "metadata": {},
   "outputs": [],
   "source": []
  }
 ],
 "metadata": {
  "kernelspec": {
   "display_name": "Python 3 (ipykernel)",
   "language": "python",
   "name": "python3"
  },
  "language_info": {
   "codemirror_mode": {
    "name": "ipython",
    "version": 3
   },
   "file_extension": ".py",
   "mimetype": "text/x-python",
   "name": "python",
   "nbconvert_exporter": "python",
   "pygments_lexer": "ipython3",
   "version": "3.9.13"
  }
 },
 "nbformat": 4,
 "nbformat_minor": 5
}
