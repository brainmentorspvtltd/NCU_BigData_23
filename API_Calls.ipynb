{
 "cells": [
  {
   "cell_type": "code",
   "execution_count": 1,
   "id": "c3987418",
   "metadata": {},
   "outputs": [],
   "source": [
    "import urllib.request as url\n",
    "import json"
   ]
  },
  {
   "cell_type": "code",
   "execution_count": 2,
   "id": "7a0d1b0c",
   "metadata": {},
   "outputs": [],
   "source": [
    "path = \"https://newsapi.org/v2/top-headlines?country=in&category=sports&apiKey=695e07af402f4b119f0703e9b19f4683\"\n",
    "response = url.urlopen(path)"
   ]
  },
  {
   "cell_type": "code",
   "execution_count": 3,
   "id": "87920d79",
   "metadata": {},
   "outputs": [
    {
     "data": {
      "text/plain": [
       "<http.client.HTTPResponse at 0x1caa320d970>"
      ]
     },
     "execution_count": 3,
     "metadata": {},
     "output_type": "execute_result"
    }
   ],
   "source": [
    "response"
   ]
  },
  {
   "cell_type": "code",
   "execution_count": 4,
   "id": "bb5b5794",
   "metadata": {},
   "outputs": [],
   "source": [
    "data = json.load(response)"
   ]
  },
  {
   "cell_type": "code",
   "execution_count": 5,
   "id": "c3208a3c",
   "metadata": {},
   "outputs": [
    {
     "data": {
      "text/plain": [
       "dict"
      ]
     },
     "execution_count": 5,
     "metadata": {},
     "output_type": "execute_result"
    }
   ],
   "source": [
    "type(data)"
   ]
  },
  {
   "cell_type": "code",
   "execution_count": 6,
   "id": "d496c70e",
   "metadata": {},
   "outputs": [
    {
     "data": {
      "text/plain": [
       "dict_keys(['status', 'totalResults', 'articles'])"
      ]
     },
     "execution_count": 6,
     "metadata": {},
     "output_type": "execute_result"
    }
   ],
   "source": [
    "data.keys()"
   ]
  },
  {
   "cell_type": "code",
   "execution_count": 7,
   "id": "e68ff2d5",
   "metadata": {},
   "outputs": [],
   "source": [
    "articles = data['articles']"
   ]
  },
  {
   "cell_type": "code",
   "execution_count": 9,
   "id": "902e8222",
   "metadata": {},
   "outputs": [
    {
     "data": {
      "text/plain": [
       "\"'Every time we pick an XI, we disappoint people': Dravid says 'I am not perfect' - Hindustan Times\""
      ]
     },
     "execution_count": 9,
     "metadata": {},
     "output_type": "execute_result"
    }
   ],
   "source": [
    "articles[0]['title']"
   ]
  },
  {
   "cell_type": "code",
   "execution_count": 10,
   "id": "5cdca145",
   "metadata": {},
   "outputs": [
    {
     "data": {
      "text/plain": [
       "\"With coaching comes the responsibility of taking tough calls, which Rahul Dravid admits is the 'hardest part' about being a coach. | Cricket\""
      ]
     },
     "execution_count": 10,
     "metadata": {},
     "output_type": "execute_result"
    }
   ],
   "source": [
    "articles[0]['description']"
   ]
  },
  {
   "cell_type": "code",
   "execution_count": 11,
   "id": "9a60fcda",
   "metadata": {},
   "outputs": [
    {
     "name": "stdout",
     "output_type": "stream",
     "text": [
      "'Every time we pick an XI, we disappoint people': Dravid says 'I am not perfect' - Hindustan Times\n",
      "******************************\n",
      "'Bowlers ki line nahi lagi hui hai': Rohit's hard-hitting take on Indian pacers - Hindustan Times\n",
      "******************************\n",
      "I am better than Messi and Ronaldo: Sunil Chhetri - The Business Standard\n",
      "******************************\n",
      "Novak Djokovic Doubles Down, Considers Himself Wimbledon Favourite - ATP Tour\n",
      "******************************\n",
      "Rohit Sharma's journey from benchwarmer to Test captain is just because of Virat Kohli's sacrifice - Crictoday.com (Cricket News) \n",
      "******************************\n",
      "Roma to cancel Dybala's release clause - RomaPress.net\n",
      "******************************\n",
      "Jay Shah Will Not Visit Pakistan for Asia Cup 2023 - News18\n",
      "******************************\n",
      "Andrey Rublev On Novak Djokovic: 'I Feel Like He's Playing Better & Better' - ATP Tour\n",
      "******************************\n",
      "“What a guy” – Virat Kohli shares words of wisdom from Jackie Chan ahead of IND vs WI Tests - Sportskeeda\n",
      "******************************\n",
      "Sophia Dunkley to open batting as England embrace 'disruptors' role - ESPNcricinfo\n",
      "******************************\n",
      "After threatening India for Asia Cup 2023 and ICC World Cup, Pakistan want to play bilateral series with Men in Blue - Crictoday.com (Cricket News) \n",
      "******************************\n",
      "FIFAe Nations Cup 2023 Day 1 Highlights: India remain fifth in Group D, beats South Africa in FIFA World Cup of esports - Sportstar\n",
      "******************************\n",
      "India vs West Indies: Yashasvi Jaiswal to debut as Rohit Sharma's opening partner in first Test - Indiatimes.com\n",
      "******************************\n",
      "After playing for Mumbai Indians in IPL 2023, Arjun Tendulkar rewarded with a place in South Zone team - Crictoday.com (Cricket News) \n",
      "******************************\n",
      "Wimbledon 2023: Mother Elina Svitolina’s comeback a story to behold - India Today\n",
      "******************************\n",
      "Asian Games organisers reject IOA's request for deadline extension for Indian wrestling team entries - Indiatimes.com\n",
      "******************************\n",
      "My mom still believes I shouldn’t have smashed the glass: India head coach Rahul Dravid on becoming ‘Indiranagar ka gunda’ - The Indian Express\n",
      "******************************\n",
      "Kane wants Bayern move, won't extend Tottenham deal - sources - ESPN - ESPN India\n",
      "******************************\n",
      "Tamim to travel to Dubai and UK to get back injury checked - ESPNcricinfo\n",
      "******************************\n",
      "Wimbledon 2023 Day 9 Live Updates: Djokovic vs Rublev underway; Swiatek out - Hindustan Times\n",
      "******************************\n"
     ]
    }
   ],
   "source": [
    "for i in range(len(articles)):\n",
    "    print(articles[i][\"title\"])\n",
    "    print(\"*\"*30)"
   ]
  },
  {
   "cell_type": "code",
   "execution_count": null,
   "id": "2a62eb9d",
   "metadata": {},
   "outputs": [],
   "source": []
  }
 ],
 "metadata": {
  "kernelspec": {
   "display_name": "Python 3 (ipykernel)",
   "language": "python",
   "name": "python3"
  },
  "language_info": {
   "codemirror_mode": {
    "name": "ipython",
    "version": 3
   },
   "file_extension": ".py",
   "mimetype": "text/x-python",
   "name": "python",
   "nbconvert_exporter": "python",
   "pygments_lexer": "ipython3",
   "version": "3.9.13"
  }
 },
 "nbformat": 4,
 "nbformat_minor": 5
}
