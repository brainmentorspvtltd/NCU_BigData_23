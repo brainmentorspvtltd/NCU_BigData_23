{
 "cells": [
  {
   "cell_type": "code",
   "execution_count": 3,
   "id": "72dfb7cc",
   "metadata": {},
   "outputs": [],
   "source": [
    "# !pip install tweepy"
   ]
  },
  {
   "cell_type": "code",
   "execution_count": 4,
   "id": "f371aff2",
   "metadata": {},
   "outputs": [],
   "source": [
    "import tweepy"
   ]
  },
  {
   "cell_type": "code",
   "execution_count": 61,
   "id": "26c625c8",
   "metadata": {},
   "outputs": [],
   "source": [
    "CONSUMER_KEY = \"MzPsekovcc9NM44WJVeYCWMeM\"\n",
    "CONSUMER_SECRET = \"xQJZGOMTdzyehW6nVQoJkYXz0I7HoPErAHy92tQxc0pxTvmf8z\"\n",
    "ACCESS_TOKEN = \"1678264769630072832-ogmQDYZcCvSkkxQthouEiyTgWRBqEW\"\n",
    "ACCESS_SECRET = \"eOjDWqReRu7b0HlvvbL0Uo6E8Bjo6FnVgb6ZMEGDBmDwP\""
   ]
  },
  {
   "cell_type": "code",
   "execution_count": 62,
   "id": "93decb19",
   "metadata": {},
   "outputs": [],
   "source": [
    "# Tweepy's interface for make requests to Twitter API v2\n",
    "client = tweepy.Client(\n",
    "    consumer_key=CONSUMER_KEY,\n",
    "    consumer_secret=CONSUMER_SECRET,\n",
    "    access_token=ACCESS_TOKEN,\n",
    "    access_token_secret=ACCESS_SECRET\n",
    ")"
   ]
  },
  {
   "cell_type": "code",
   "execution_count": 63,
   "id": "cce1c48b",
   "metadata": {},
   "outputs": [],
   "source": [
    "hashTag = \"#ashes\"\n",
    "date_since = \"2023-07-01\""
   ]
  },
  {
   "cell_type": "code",
   "execution_count": 67,
   "id": "9d565dcf",
   "metadata": {},
   "outputs": [],
   "source": [
    "# 280 characters test\n",
    "message = \"Lorem ipsum dolor sit amet\"\n",
    "\n",
    "try: \n",
    "    client.create_tweet(text=message)\n",
    "except Exception as e:\n",
    "    # eg 403 Forbidden You are not allowed to create a Tweet with duplicate content\n",
    "    # 400 Bad Request Your Tweet text is too long. For more information on how Twitter determines text length see https://github.com/twitter/twitter-text.\n",
    "    # 429 Too Many Requests - if you go over the 50 a day limit for example (free tier)\n",
    "    print(f'unexpected error creating tweet: \\n\\n{e}\\n')"
   ]
  },
  {
   "cell_type": "code",
   "execution_count": null,
   "id": "0d7785a3",
   "metadata": {},
   "outputs": [],
   "source": []
  }
 ],
 "metadata": {
  "kernelspec": {
   "display_name": "Python 3 (ipykernel)",
   "language": "python",
   "name": "python3"
  },
  "language_info": {
   "codemirror_mode": {
    "name": "ipython",
    "version": 3
   },
   "file_extension": ".py",
   "mimetype": "text/x-python",
   "name": "python",
   "nbconvert_exporter": "python",
   "pygments_lexer": "ipython3",
   "version": "3.9.13"
  }
 },
 "nbformat": 4,
 "nbformat_minor": 5
}
